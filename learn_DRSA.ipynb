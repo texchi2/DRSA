{
  "nbformat": 4,
  "nbformat_minor": 0,
  "metadata": {
    "colab": {
      "name": "learn-DRSA",
      "provenance": [],
      "collapsed_sections": [],
      "mount_file_id": "13fZoAeoR5k7dOqRIU2HBf3fzkjgPF7uy",
      "authorship_tag": "ABX9TyNg5nno3NYDXhKV03FKKSX2",
      "include_colab_link": true
    },
    "kernelspec": {
      "name": "python3",
      "display_name": "Python 3"
    }
  },
  "cells": [
    {
      "cell_type": "markdown",
      "metadata": {
        "id": "view-in-github",
        "colab_type": "text"
      },
      "source": [
        "<a href=\"https://colab.research.google.com/github/texchi2/DRSA/blob/master/learn_DRSA.ipynb\" target=\"_parent\"><img src=\"https://colab.research.google.com/assets/colab-badge.svg\" alt=\"Open In Colab\"/></a>"
      ]
    },
    {
      "cell_type": "markdown",
      "metadata": {
        "id": "IERhmmNSHIpA"
      },
      "source": [
        "# Tensorflow learning in Colabs\n",
        "Colaboratory, or \"Colab\" for short, allows you to write and execute Python in your browser, with \n",
        "    •\tZero configuration required\n",
        "    •\tFree access to GPUs\n",
        "    •\tEasy sharing\n",
        "Whether you're a student, a data scientist or an AI researcher, Colab can make your work easier. Watch Introduction to Colab to learn more, or just get started below!\n",
        "Colab notebooks are Jupyter notebooks (July, Python and R) that are hosted by Colab. To learn more about the Jupyter project, see jupyter.org.\n",
        "latex as well\n",
        "\n",
        "Tensorflow tutorial\n",
        " https://www.youtube.com/watch?v=6Xt6L1I5jSc\n",
        "\n",
        "\n"
      ]
    },
    {
      "cell_type": "markdown",
      "metadata": {
        "id": "6Dop1m9bHkQk"
      },
      "source": [
        "# high C/P value paid GPU on the cloud\n",
        "https://vast.ai"
      ]
    },
    {
      "cell_type": "markdown",
      "metadata": {
        "id": "4sprc-oRSmEz"
      },
      "source": [
        "# Python code trunk\n",
        "Avoid Using pip install with GPUs and TPUs"
      ]
    },
    {
      "cell_type": "code",
      "metadata": {
        "id": "DmwcCjX5WeWf"
      },
      "source": [
        "# path /content/DRSA/python/BASE_MODEL.py\n",
        "! pip install tensorflow\n",
        "! pip install numpy\n",
        "! pip install sklearn\n",
        "! pip install matplotlib"
      ],
      "execution_count": null,
      "outputs": []
    },
    {
      "cell_type": "markdown",
      "metadata": {
        "id": "uQNkBsi7W3wX"
      },
      "source": [
        "# Tensorflow, choice version 1.x or 2.x\n",
        "https://colab.research.google.com/notebooks/mlcc/first_steps_with_tensor_flow.ipynb"
      ]
    },
    {
      "cell_type": "code",
      "metadata": {
        "colab": {
          "base_uri": "https://localhost:8080/"
        },
        "id": "q6Ttu041RUwy",
        "outputId": "c2bb337e-bdfc-4334-ff2b-7dbe5fd60e50"
      },
      "source": [
        "%tensorflow_version 1.x\n",
        "import tensorflow\n",
        "print(tensorflow.__version__)"
      ],
      "execution_count": null,
      "outputs": [
        {
          "output_type": "stream",
          "text": [
            "TensorFlow 1.x selected.\n",
            "1.15.2\n"
          ],
          "name": "stdout"
        }
      ]
    },
    {
      "cell_type": "code",
      "metadata": {
        "colab": {
          "base_uri": "https://localhost:8080/"
        },
        "id": "1Q5hAZNJOIdZ",
        "outputId": "0d95f85c-e957-44a0-a564-d146d2b0c20b"
      },
      "source": [
        "%tensorflow_version 2.x"
      ],
      "execution_count": null,
      "outputs": [
        {
          "output_type": "stream",
          "text": [
            "TensorFlow is already loaded. Please restart the runtime to change versions.\n"
          ],
          "name": "stdout"
        }
      ]
    },
    {
      "cell_type": "markdown",
      "metadata": {
        "id": "KQTq08sHh1nD"
      },
      "source": [
        "# DRSA (run from here)\n",
        "https://github.com/rk2900/DRSA\n",
        "\n",
        "python km.py             # for Kaplan-Meier\n",
        "\n",
        "python gamma_model.py    # for Gamma\n",
        "\n",
        "python cox.py            # for Lasso-Cox and DeepSurv\n",
        "\n",
        "python deephit.py        # for DeepHit\n",
        "\n",
        "python DRSA.py 0.0001     # for DRSA"
      ]
    },
    {
      "cell_type": "code",
      "metadata": {
        "colab": {
          "base_uri": "https://localhost:8080/"
        },
        "id": "KlMzXRGGRCfd",
        "outputId": "b4135e6f-dfb9-4061-e7f5-9bc81d7de300"
      },
      "source": [
        "# Tex's modified DRSA: DRSA.py and BASE_MODEL.py\n",
        "# Python 3 disallows mixing the use of tabs and spaces for indentation\n",
        "# Module level \"dunders\" (i.e. names with two leading and two trailing underscores) such as __all__\n",
        "# ref: https://www.python.org/dev/peps/pep-0008/#code-lay-out\n",
        "# or https://github.com/python/peps/blob/master/pep-0008.txt\n",
        "! git clone https://github.com/texchi2/DRSA.git\n"
      ],
      "execution_count": null,
      "outputs": [
        {
          "output_type": "stream",
          "text": [
            "Cloning into 'DRSA'...\n",
            "remote: Enumerating objects: 19, done.\u001b[K\n",
            "remote: Counting objects: 100% (19/19), done.\u001b[K\n",
            "remote: Compressing objects: 100% (16/16), done.\u001b[K\n",
            "remote: Total 261 (delta 5), reused 8 (delta 2), pack-reused 242\u001b[K\n",
            "Receiving objects: 100% (261/261), 9.63 MiB | 25.67 MiB/s, done.\n",
            "Resolving deltas: 100% (137/137), done.\n"
          ],
          "name": "stdout"
        }
      ]
    },
    {
      "cell_type": "code",
      "metadata": {
        "colab": {
          "base_uri": "https://localhost:8080/"
        },
        "id": "WVGPXDOs6Afo",
        "outputId": "f405c3c1-ada9-4058-e951-fbd8df5d034d"
      },
      "source": [
        "# home directory at /content\n",
        "! ls /content/DRSA\n"
      ],
      "execution_count": null,
      "outputs": [
        {
          "output_type": "stream",
          "text": [
            "data\t\t\t\t       MTLSA\n",
            "deep-recurrent-survival-analysis.pptx  python\n",
            "drsa-data.zip.001\t\t       README.md\n",
            "drsa-data.zip.002\t\t       STM\n",
            "drsa-data.zip.003\t\t       supplement-material.pdf\n"
          ],
          "name": "stdout"
        }
      ]
    },
    {
      "cell_type": "code",
      "metadata": {
        "id": "1vJPo9ETP9_V"
      },
      "source": [
        "import tensorflow as tf\n",
        "# tf.reset_default_graph()\n",
        "tf.compat.v1.reset_default_graph()"
      ],
      "execution_count": null,
      "outputs": []
    },
    {
      "cell_type": "code",
      "metadata": {
        "colab": {
          "base_uri": "https://localhost:8080/"
        },
        "id": "N8iVo1IJRQa4",
        "outputId": "557fd1ee-9b40-4c4b-a10a-942ef07fc543"
      },
      "source": [
        "# RStudio show invisible is the best way\n",
        "# check tab by \\t\n",
        "# ! python -m tabnanny /content/DRSA/python/BASE_MODEL.py\n",
        "#x Vim BASE_MODEL.py\n",
        "#x gg=G\n",
        "#x This auto indents everything and will clear up any spaces you have thrown in.\n",
        "\n",
        "# Python 2.7.6.\n",
        "# TensorFlow(>=1.3): The code you're using was written in Tensorflow v1.x, and is not compatible as it is with Tensorflow v2.\n",
        "# AttributeError: module 'tensorflow' has no attribute 'reset_default_graph' or more\n",
        "# => tf.compat.v1.reset_default_graph\n",
        "#%tensorflow_version 1.3\n",
        "# of *** follow this guide to migrate the code from v1 to v2:\n",
        "# https://www.tensorflow.org/guide/migrate\n",
        "! python /content/DRSA/python/DRSA.py 0.0001 "
      ],
      "execution_count": null,
      "outputs": [
        {
          "output_type": "stream",
          "text": [
            "2020-12-12 14:20:56.495902: I tensorflow/stream_executor/platform/default/dso_loader.cc:48] Successfully opened dynamic library libcudart.so.10.1\n",
            "drsa32_128_128_0.000100_0.000100_0.001000_2259_1.20_0.20_True_False_1_1 \n",
            "\n",
            "Traceback (most recent call last):\n",
            "  File \"/content/DRSA/python/DRSA.py\", line 46, in <module>\n",
            "    RUNNING_MODEL.create_graph()\n",
            "  File \"/content/DRSA/python/BASE_MODEL.py\", line 257, in create_graph\n",
            "    middle_layer = tf.layers.dense(input, self.MIDDLE_FEATURE_SIZE, tf.nn.relu)  # hidden layer\n",
            "AttributeError: module 'tensorflow' has no attribute 'layers'\n"
          ],
          "name": "stdout"
        }
      ]
    },
    {
      "cell_type": "code",
      "metadata": {
        "colab": {
          "base_uri": "https://localhost:8080/",
          "height": 257
        },
        "id": "kBNO4rOUVeW9",
        "outputId": "91658a08-8dae-4ea7-ba07-75422ebcbb30"
      },
      "source": [
        "# DRSA.py\n",
        "import sys\n",
        "sys.path.append(\"/content/DRSA/python\") # BASE_MODEL.py\n",
        "from BASE_MODEL import BASE_RNN\n",
        "\n",
        "#default parameter\n",
        "FEATURE_SIZE = 16 # dataset input fields count\n",
        "MAX_DEN = 580000 # max input data demension\n",
        "EMB_DIM = 32\n",
        "BATCH_SIZE = 128\n",
        "MAX_SEQ_LEN = 330\n",
        "TRAING_STEPS = 10000000\n",
        "STATE_SIZE = 128\n",
        "GRAD_CLIP = 5.0\n",
        "L2_NORM = 0.001\n",
        "ADD_TIME = True\n",
        "ALPHA = 1.2 # coefficient for cross entropy\n",
        "BETA = 0.2 # coefficient for anlp\n",
        "input_file=\"2259\" #toy dataset\n",
        "\n",
        "if len(sys.argv) < 2:\n",
        "    print (\"Please input learning rate. ex. 0.0001\")\n",
        "    sys.exit(0)\n",
        "\n",
        "LR = float(sys.argv[1])\n",
        "LR_ANLP = LR\n",
        "RUNNING_MODEL = BASE_RNN(EMB_DIM=EMB_DIM,\n",
        "                         FEATURE_SIZE=FEATURE_SIZE,\n",
        "                         BATCH_SIZE=BATCH_SIZE,\n",
        "                         MAX_DEN=MAX_DEN,\n",
        "                         MAX_SEQ_LEN=MAX_SEQ_LEN,\n",
        "                         TRAING_STEPS=TRAING_STEPS,\n",
        "                         STATE_SIZE=STATE_SIZE,\n",
        "                         LR=LR,\n",
        "                         GRAD_CLIP=GRAD_CLIP,\n",
        "                         L2_NORM=L2_NORM,\n",
        "                         INPUT_FILE=input_file,\n",
        "                         ALPHA=ALPHA,\n",
        "                         BETA=BETA,\n",
        "                         ADD_TIME_FEATURE=ADD_TIME,\n",
        "                         FIND_PARAMETER=False,\n",
        "                         ANLP_LR=LR,\n",
        "                         DNN_MODEL=False,\n",
        "                         DISCOUNT=1,\n",
        "                         ONLY_TRAIN_ANLP=False,\n",
        "                         LOG_PREFIX=\"drsa\")\n",
        "RUNNING_MODEL.create_graph()\n",
        "RUNNING_MODEL.run_model()"
      ],
      "execution_count": null,
      "outputs": [
        {
          "output_type": "error",
          "ename": "ValueError",
          "evalue": "ignored",
          "traceback": [
            "\u001b[0;31m---------------------------------------------------------------------------\u001b[0m",
            "\u001b[0;31mValueError\u001b[0m                                Traceback (most recent call last)",
            "\u001b[0;32m<ipython-input-10-b9ce43dd8627>\u001b[0m in \u001b[0;36m<module>\u001b[0;34m()\u001b[0m\n\u001b[1;32m     23\u001b[0m     \u001b[0msys\u001b[0m\u001b[0;34m.\u001b[0m\u001b[0mexit\u001b[0m\u001b[0;34m(\u001b[0m\u001b[0;36m0\u001b[0m\u001b[0;34m)\u001b[0m\u001b[0;34m\u001b[0m\u001b[0;34m\u001b[0m\u001b[0m\n\u001b[1;32m     24\u001b[0m \u001b[0;34m\u001b[0m\u001b[0m\n\u001b[0;32m---> 25\u001b[0;31m \u001b[0mLR\u001b[0m \u001b[0;34m=\u001b[0m \u001b[0mfloat\u001b[0m\u001b[0;34m(\u001b[0m\u001b[0msys\u001b[0m\u001b[0;34m.\u001b[0m\u001b[0margv\u001b[0m\u001b[0;34m[\u001b[0m\u001b[0;36m1\u001b[0m\u001b[0;34m]\u001b[0m\u001b[0;34m)\u001b[0m\u001b[0;34m\u001b[0m\u001b[0;34m\u001b[0m\u001b[0m\n\u001b[0m\u001b[1;32m     26\u001b[0m \u001b[0mLR_ANLP\u001b[0m \u001b[0;34m=\u001b[0m \u001b[0mLR\u001b[0m\u001b[0;34m\u001b[0m\u001b[0;34m\u001b[0m\u001b[0m\n\u001b[1;32m     27\u001b[0m RUNNING_MODEL = BASE_RNN(EMB_DIM=EMB_DIM,\n",
            "\u001b[0;31mValueError\u001b[0m: could not convert string to float: '-f'"
          ]
        }
      ]
    },
    {
      "cell_type": "code",
      "metadata": {
        "id": "vKuB3Cwcg_W4"
      },
      "source": [
        ""
      ],
      "execution_count": null,
      "outputs": []
    }
  ]
}