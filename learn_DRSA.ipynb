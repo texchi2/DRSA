{
  "nbformat": 4,
  "nbformat_minor": 0,
  "metadata": {
    "colab": {
      "name": "learn-DRSA",
      "provenance": [],
      "collapsed_sections": [],
      "toc_visible": true,
      "mount_file_id": "13fZoAeoR5k7dOqRIU2HBf3fzkjgPF7uy",
      "authorship_tag": "ABX9TyNVgffwzUZWG8iuXxczhRM3",
      "include_colab_link": true
    },
    "kernelspec": {
      "name": "python3",
      "display_name": "Python 3"
    }
  },
  "cells": [
    {
      "cell_type": "markdown",
      "metadata": {
        "id": "view-in-github",
        "colab_type": "text"
      },
      "source": [
        "<a href=\"https://colab.research.google.com/github/texchi2/DRSA/blob/master/learn_DRSA.ipynb\" target=\"_parent\"><img src=\"https://colab.research.google.com/assets/colab-badge.svg\" alt=\"Open In Colab\"/></a>"
      ]
    },
    {
      "cell_type": "markdown",
      "metadata": {
        "id": "IERhmmNSHIpA"
      },
      "source": [
        "# Tensorflow learning in Colabs\n",
        "Colaboratory, or \"Colab\" for short, allows you to write and execute Python in your browser, with \n",
        "    •\tZero configuration required\n",
        "    •\tFree access to GPUs\n",
        "    •\tEasy sharing\n",
        "Whether you're a student, a data scientist or an AI researcher, Colab can make your work easier. Watch Introduction to Colab to learn more, or just get started below!\n",
        "Colab notebooks are Jupyter notebooks (July, Python and R) that are hosted by Colab. To learn more about the Jupyter project, see jupyter.org.\n",
        "latex as well\n",
        "\n",
        "Tensorflow tutorial\n",
        " https://www.youtube.com/watch?v=6Xt6L1I5jSc\n",
        "\n",
        "\n"
      ]
    },
    {
      "cell_type": "markdown",
      "metadata": {
        "id": "6Dop1m9bHkQk"
      },
      "source": [
        "# high C/P value paid GPU on the cloud\n",
        "https://vast.ai"
      ]
    },
    {
      "cell_type": "markdown",
      "metadata": {
        "id": "4sprc-oRSmEz"
      },
      "source": [
        "# Python code trunk\n",
        "Avoid Using pip install with GPUs and TPUs"
      ]
    },
    {
      "cell_type": "code",
      "metadata": {
        "id": "DmwcCjX5WeWf"
      },
      "source": [
        "# path /content/DRSA/python/BASE_MODEL.py\n",
        "! pip install tensorflow\n",
        "! pip install numpy\n",
        "! pip install sklearn\n",
        "! pip install matplotlib"
      ],
      "execution_count": null,
      "outputs": []
    },
    {
      "cell_type": "markdown",
      "metadata": {
        "id": "uQNkBsi7W3wX"
      },
      "source": [
        "# Tensorflow, choice version 1.x or 2.x\n",
        "https://colab.research.google.com/notebooks/mlcc/first_steps_with_tensor_flow.ipynb"
      ]
    },
    {
      "cell_type": "code",
      "metadata": {
        "colab": {
          "base_uri": "https://localhost:8080/"
        },
        "id": "q6Ttu041RUwy",
        "outputId": "0bb9a934-24ab-4495-dc14-66313b72d7e9"
      },
      "source": [
        "%tensorflow_version 1.x\n",
        "# Tensorflow 1.14+ has \"TensorFlow 2.0 API in tf.compat.v2\"\n",
        "import tensorflow\n",
        "print(tensorflow.__version__)"
      ],
      "execution_count": 1,
      "outputs": [
        {
          "output_type": "stream",
          "text": [
            "TensorFlow 1.x selected.\n",
            "1.15.2\n"
          ],
          "name": "stdout"
        }
      ]
    },
    {
      "cell_type": "code",
      "metadata": {
        "id": "x0yHXhcxbHXn"
      },
      "source": [
        "from google.colab import drive\n",
        "drive.mount('/gdrive')\n",
        "%cd /gdrive"
      ],
      "execution_count": 1,
      "outputs": []
    },
    {
      "cell_type": "code",
      "metadata": {
        "id": "wSReBfYyfKWM"
      },
      "source": [
        "# migration code fro V1 to V2\n",
        "# Automatically upgrade code to TensorFlow 2\n",
        "# Recommended upgrade process https://www.tensorflow.org/guide/upgrade\n",
        "# Test .py code"
      ],
      "execution_count": 2,
      "outputs": []
    },
    {
      "cell_type": "markdown",
      "metadata": {
        "id": "KQTq08sHh1nD"
      },
      "source": [
        "# DRSA (run from here)\n",
        "https://github.com/rk2900/DRSA\n",
        "\n",
        "python km.py             # for Kaplan-Meier\n",
        "\n",
        "python gamma_model.py    # for Gamma\n",
        "\n",
        "python cox.py            # for Lasso-Cox and DeepSurv\n",
        "\n",
        "python deephit.py        # for DeepHit\n",
        "\n",
        "python DRSA.py 0.0001     # for DRSA"
      ]
    },
    {
      "cell_type": "code",
      "metadata": {
        "colab": {
          "base_uri": "https://localhost:8080/"
        },
        "id": "KlMzXRGGRCfd",
        "outputId": "4c91485a-923a-41e9-d9bf-2791e5e13509"
      },
      "source": [
        "# Tex's modified DRSA: DRSA.py and BASE_MODEL.py\n",
        "# Python 3 disallows mixing the use of tabs and spaces for indentation\n",
        "# Module level \"dunders\" (i.e. names with two leading and two trailing underscores) such as __all__\n",
        "# ref: https://www.python.org/dev/peps/pep-0008/#code-lay-out\n",
        "# or https://github.com/python/peps/blob/master/pep-0008.txt\n",
        "! git clone https://github.com/texchi2/DRSA.git\n"
      ],
      "execution_count": 12,
      "outputs": [
        {
          "output_type": "stream",
          "text": [
            "fatal: destination path 'DRSA' already exists and is not an empty directory.\n"
          ],
          "name": "stdout"
        }
      ]
    },
    {
      "cell_type": "code",
      "metadata": {
        "colab": {
          "base_uri": "https://localhost:8080/"
        },
        "id": "WVGPXDOs6Afo",
        "outputId": "a1c698b3-b682-470c-c00a-ee7417339e52"
      },
      "source": [
        "# home directory at /content\n",
        "! ls /content/DRSA\n"
      ],
      "execution_count": 6,
      "outputs": [
        {
          "output_type": "stream",
          "text": [
            "data\t\t\t\t       MTLSA\n",
            "deep-recurrent-survival-analysis.pptx  python\n",
            "drsa-data.zip.001\t\t       README.md\n",
            "drsa-data.zip.002\t\t       STM\n",
            "drsa-data.zip.003\t\t       supplement-material.pdf\n",
            "learn_DRSA.ipynb\n"
          ],
          "name": "stdout"
        }
      ]
    },
    {
      "cell_type": "code",
      "metadata": {
        "colab": {
          "base_uri": "https://localhost:8080/"
        },
        "id": "8cm7l5-Dhgnq",
        "outputId": "c2d4c754-05d2-4469-8869-e1563a2aa196"
      },
      "source": [
        "# Run the upgrade scrip\n",
        "! tf_upgrade_v2 \\\n",
        "  --intree  /content/DRSA/python/ \\\n",
        "  --outtree  /content/DRSA/python_TFv2/ \\\n",
        "  --reportfile /content/DRSA/python_TFv2/report.txt"
      ],
      "execution_count": 15,
      "outputs": [
        {
          "output_type": "stream",
          "text": [
            "INFO line 122:15: Renamed 'tf.random_normal' to 'tf.random.normal'\n",
            "INFO line 167:8: Renamed 'tf.reset_default_graph' to 'tf.compat.v1.reset_default_graph'\n",
            "INFO line 242:20: Renamed 'tf.placeholder' to 'tf.compat.v1.placeholder'\n",
            "INFO line 243:20: Renamed 'tf.placeholder' to 'tf.compat.v1.placeholder'\n",
            "INFO line 244:26: Renamed 'tf.placeholder' to 'tf.compat.v1.placeholder'\n",
            "INFO line 245:31: Renamed 'tf.placeholder' to 'tf.compat.v1.placeholder'\n",
            "INFO line 246:36: Renamed 'tf.placeholder' to 'tf.compat.v1.placeholder'\n",
            "INFO line 251:17: Added keywords to args of function 'tf.nn.embedding_lookup'\n",
            "WARNING line 251:17: tf.nn.embedding_lookup requires manual check. `partition_strategy` has been removed from tf.nn.embedding_lookup.  The 'div' strategy will be used by default.\n",
            "INFO line 255:27: Renamed 'tf.layers.dense' to 'tf.compat.v1.layers.dense'\n",
            "INFO line 270:27: Renamed 'tf.layers.dense' to 'tf.compat.v1.layers.dense'\n",
            "INFO line 276:23: Renamed 'tf.contrib.rnn.BasicLSTMCell' to 'tf.compat.v1.nn.rnn_cell.BasicLSTMCell'\n",
            "INFO line 279:34: Renamed 'tf.nn.dynamic_rnn' to 'tf.compat.v1.nn.dynamic_rnn'\n",
            "INFO line 290:17: Renamed 'tf.variable_scope' to 'tf.compat.v1.variable_scope'\n",
            "WARNING line 291:20: tf.get_variable requires manual check. tf.get_variable returns ResourceVariables by default in 2.0, which have well-defined semantics and are stricter about shapes. You can disable this behavior by passing use_resource=False, or by calling tf.compat.v1.disable_resource_variables().\n",
            "INFO line 291:20: Renamed 'tf.get_variable' to 'tf.compat.v1.get_variable'\n",
            "WARNING line 292:20: tf.get_variable requires manual check. tf.get_variable returns ResourceVariables by default in 2.0, which have well-defined semantics and are stricter about shapes. You can disable this behavior by passing use_resource=False, or by calling tf.compat.v1.disable_resource_variables().\n",
            "INFO line 292:20: Renamed 'tf.get_variable' to 'tf.compat.v1.get_variable'\n",
            "INFO line 292:58: tf.constant_initializer requires manual check. Initializers no longer have the dtype argument in the constructor or partition_info argument in the __call__ method.\n",
            "The calls have been converted to compat.v1 for safety (even though they may already have been correct).\n",
            "INFO line 292:58: Renamed 'tf.constant_initializer' to 'tf.compat.v1.constant_initializer'\n",
            "INFO line 295:20: Added keywords to args of function 'tf.transpose'\n",
            "INFO line 311:37: Added keywords to args of function 'tf.reduce_prod'\n",
            "INFO line 312:33: Added keywords to args of function 'tf.reduce_prod'\n",
            "INFO line 313:33: Added keywords to args of function 'tf.reduce_prod'\n",
            "INFO line 320:20: Renamed 'tf.log' to 'tf.math.log'\n",
            "INFO line 320:34: Added keywords to args of function 'tf.transpose'\n",
            "INFO line 320:65: Added keywords to args of function 'tf.transpose'\n",
            "INFO line 323:26: Added keywords to args of function 'tf.reduce_sum'\n",
            "INFO line 325:35: Added keywords to args of function 'tf.transpose'\n",
            "INFO line 328:23: Added keywords to args of function 'tf.transpose'\n",
            "INFO line 329:25: Added keywords to args of function 'tf.reduce_sum'\n",
            "INFO line 329:49: Renamed 'tf.log' to 'tf.math.log'\n",
            "INFO line 331:16: Renamed 'tf.trainable_variables' to 'tf.compat.v1.trainable_variables'\n",
            "INFO line 335:20: Renamed 'tf.train.AdamOptimizer' to 'tf.compat.v1.train.AdamOptimizer'\n",
            "INFO line 336:25: Renamed 'tf.train.AdamOptimizer' to 'tf.compat.v1.train.AdamOptimizer'\n",
            "INFO line 338:42: Added keywords to args of function 'tf.gradients'\n",
            "INFO line 342:8: Renamed 'tf.add_to_collection' to 'tf.compat.v1.add_to_collection'\n",
            "INFO line 344:47: Added keywords to args of function 'tf.gradients'\n",
            "INFO line 348:8: Renamed 'tf.add_to_collection' to 'tf.compat.v1.add_to_collection'\n",
            "INFO line 352:46: Added keywords to args of function 'tf.gradients'\n",
            "INFO line 357:8: Renamed 'tf.add_to_collection' to 'tf.compat.v1.add_to_collection'\n",
            "INFO line 359:32: Added keywords to args of function 'tf.argmax'\n",
            "INFO line 359:60: Added keywords to args of function 'tf.argmax'\n",
            "INFO line 360:24: Added keywords to args of function 'tf.reduce_mean'\n",
            "INFO line 365:15: Renamed 'tf.global_variables_initializer' to 'tf.compat.v1.global_variables_initializer'\n",
            "INFO line 368:16: Renamed 'tf.train.Saver' to 'tf.compat.v1.train.Saver'\n",
            "INFO line 478:17: Renamed 'tf.ConfigProto' to 'tf.compat.v1.ConfigProto'\n",
            "INFO line 480:13: Renamed 'tf.Session' to 'tf.compat.v1.Session'\n",
            "WARNING line 485:8: *.save requires manual check. (This warning is only applicable if the code saves a tf.Keras model) Keras model.save now saves to the Tensorflow SavedModel format by default, instead of HDF5. To continue saving to HDF5, add the argument save_format='h5' to the save() function.\n",
            "INFO line 503:8: Renamed 'tf.reset_default_graph' to 'tf.compat.v1.reset_default_graph'\n",
            "INFO line 504:17: Renamed 'tf.ConfigProto' to 'tf.compat.v1.ConfigProto'\n",
            "INFO line 506:16: Renamed 'tf.train.import_meta_graph' to 'tf.compat.v1.train.import_meta_graph'\n",
            "INFO line 510:15: Renamed 'tf.Session' to 'tf.compat.v1.Session'\n",
            "INFO line 512:16: Renamed 'tf.get_default_graph' to 'tf.compat.v1.get_default_graph'\n",
            "INFO line 521:24: Renamed 'tf.get_collection' to 'tf.compat.v1.get_collection'\n",
            "INFO line 33:8: Renamed 'tf.reset_default_graph' to 'tf.compat.v1.reset_default_graph'\n",
            "INFO line 36:17: Renamed 'tf.sparse_placeholder' to 'tf.compat.v1.sparse_placeholder'\n",
            "INFO line 37:17: Renamed 'tf.placeholder' to 'tf.compat.v1.placeholder'\n",
            "INFO line 38:17: Renamed 'tf.placeholder' to 'tf.compat.v1.placeholder'\n",
            "INFO line 39:17: Renamed 'tf.placeholder' to 'tf.compat.v1.placeholder'\n",
            "INFO line 48:43: Renamed 'tf.truncated_normal' to 'tf.random.truncated_normal'\n",
            "INFO line 51:22: Renamed 'tf.lgamma' to 'tf.math.lgamma'\n",
            "INFO line 52:18: Renamed 'tf.igamma' to 'tf.math.igamma'\n",
            "INFO line 52:67: Renamed 'tf.lgamma' to 'tf.math.lgamma'\n",
            "INFO line 54:24: Renamed 'tf.log' to 'tf.math.log'\n",
            "INFO line 55:25: Renamed 'tf.log' to 'tf.math.log'\n",
            "INFO line 56:28: Added keywords to args of function 'tf.reduce_mean'\n",
            "INFO line 57:26: Renamed 'tf.train.GradientDescentOptimizer' to 'tf.compat.v1.train.GradientDescentOptimizer'\n",
            "INFO line 61:28: Renamed 'tf.placeholder' to 'tf.compat.v1.placeholder'\n",
            "INFO line 62:32: Renamed 'tf.log' to 'tf.math.log'\n",
            "INFO line 63:27: Added keywords to args of function 'tf.reduce_mean'\n",
            "INFO line 63:52: Renamed 'tf.sparse_tensor_dense_matmul' to 'tf.sparse.sparse_dense_matmul'\n",
            "INFO line 65:26: Renamed 'tf.train.MomentumOptimizer' to 'tf.compat.v1.train.MomentumOptimizer'\n",
            "INFO line 69:17: Renamed 'tf.ConfigProto' to 'tf.compat.v1.ConfigProto'\n",
            "INFO line 71:20: Renamed 'tf.Session' to 'tf.compat.v1.Session'\n",
            "INFO line 72:8: Renamed 'tf.global_variables_initializer' to 'tf.compat.v1.global_variables_initializer'\n",
            "INFO line 78:28: Renamed 'tf.SparseTensorValue' to 'tf.compat.v1.SparseTensorValue'\n",
            "INFO line 103:32: Renamed 'tf.SparseTensorValue' to 'tf.compat.v1.SparseTensorValue'\n",
            "INFO line 136:30: Renamed 'tf.sparse_tensor_dense_matmul' to 'tf.sparse.sparse_dense_matmul'\n",
            "INFO line 137:19: Added keywords to args of function 'tf.reduce_mean'\n",
            "INFO line 142:28: Renamed 'tf.SparseTensorValue' to 'tf.compat.v1.SparseTensorValue'\n",
            "INFO line 152:104: Renamed 'tf.lgamma' to 'tf.math.lgamma'\n",
            "INFO line 153:13: Renamed 'tf.igamma' to 'tf.math.igamma'\n",
            "INFO line 153:57: Renamed 'tf.lgamma' to 'tf.math.lgamma'\n",
            "INFO line 162:16: Renamed 'tf.log' to 'tf.math.log'\n",
            "WARNING line 175:8: *.save requires manual check. (This warning is only applicable if the code saves a tf.Keras model) Keras model.save now saves to the Tensorflow SavedModel format by default, instead of HDF5. To continue saving to HDF5, add the argument save_format='h5' to the save() function.\n",
            "WARNING line 176:8: *.save requires manual check. (This warning is only applicable if the code saves a tf.Keras model) Keras model.save now saves to the Tensorflow SavedModel format by default, instead of HDF5. To continue saving to HDF5, add the argument save_format='h5' to the save() function.\n",
            "WARNING line 177:8: *.save requires manual check. (This warning is only applicable if the code saves a tf.Keras model) Keras model.save now saves to the Tensorflow SavedModel format by default, instead of HDF5. To continue saving to HDF5, add the argument save_format='h5' to the save() function.\n",
            "INFO line 38:8: Renamed 'tf.reset_default_graph' to 'tf.compat.v1.reset_default_graph'\n",
            "INFO line 45:18: Renamed 'tf.sparse_placeholder' to 'tf.compat.v1.sparse_placeholder'\n",
            "INFO line 46:17: Renamed 'tf.placeholder' to 'tf.compat.v1.placeholder'\n",
            "INFO line 47:17: Renamed 'tf.placeholder' to 'tf.compat.v1.placeholder'\n",
            "INFO line 48:17: Renamed 'tf.placeholder' to 'tf.compat.v1.placeholder'\n",
            "INFO line 54:16: Renamed 'tf.truncated_normal' to 'tf.random.truncated_normal'\n",
            "INFO line 57:16: Renamed 'tf.truncated_normal' to 'tf.random.truncated_normal'\n",
            "INFO line 61:38: Renamed 'tf.sparse_tensor_dense_matmul' to 'tf.sparse.sparse_dense_matmul'\n",
            "INFO line 64:49: Renamed 'tf.truncated_normal' to 'tf.random.truncated_normal'\n",
            "INFO line 65:46: Renamed 'tf.truncated_normal' to 'tf.random.truncated_normal'\n",
            "INFO line 66:49: Renamed 'tf.truncated_normal' to 'tf.random.truncated_normal'\n",
            "INFO line 67:46: Renamed 'tf.truncated_normal' to 'tf.random.truncated_normal'\n",
            "INFO line 79:46: Added keywords to args of function 'tf.shape'\n",
            "INFO line 80:46: Added keywords to args of function 'tf.shape'\n",
            "INFO line 87:22: Added keywords to args of function 'tf.reduce_sum'\n",
            "INFO line 87:36: Renamed 'tf.log' to 'tf.math.log'\n",
            "INFO line 88:22: Added keywords to args of function 'tf.reduce_sum'\n",
            "INFO line 88:36: Renamed 'tf.log' to 'tf.math.log'\n",
            "INFO line 93:25: Added keywords to args of function 'tf.transpose'\n",
            "INFO line 93:38: Added keywords to args of function 'tf.nn.embedding_lookup'\n",
            "WARNING line 93:38: tf.nn.embedding_lookup requires manual check. `partition_strategy` has been removed from tf.nn.embedding_lookup.  The 'div' strategy will be used by default.\n",
            "INFO line 93:61: Added keywords to args of function 'tf.transpose'\n",
            "INFO line 98:25: Added keywords to args of function 'tf.reduce_sum'\n",
            "INFO line 98:39: Renamed 'tf.matrix_band_part' to 'tf.linalg.band_part'\n",
            "INFO line 102:25: Renamed 'tf.train.GradientDescentOptimizer' to 'tf.compat.v1.train.GradientDescentOptimizer'\n",
            "INFO line 106:17: Renamed 'tf.ConfigProto' to 'tf.compat.v1.ConfigProto'\n",
            "INFO line 108:20: Renamed 'tf.Session' to 'tf.compat.v1.Session'\n",
            "INFO line 109:8: Renamed 'tf.global_variables_initializer' to 'tf.compat.v1.global_variables_initializer'\n",
            "INFO line 121:39: Renamed 'tf.SparseTensorValue' to 'tf.compat.v1.SparseTensorValue'\n",
            "INFO line 160:39: Renamed 'tf.SparseTensorValue' to 'tf.compat.v1.SparseTensorValue'\n",
            "INFO line 196:39: Renamed 'tf.SparseTensorValue' to 'tf.compat.v1.SparseTensorValue'\n",
            "INFO line 34:8: Renamed 'tf.reset_default_graph' to 'tf.compat.v1.reset_default_graph'\n",
            "INFO line 37:17: Renamed 'tf.sparse_placeholder' to 'tf.compat.v1.sparse_placeholder'\n",
            "INFO line 38:17: Renamed 'tf.placeholder' to 'tf.compat.v1.placeholder'\n",
            "INFO line 39:17: Renamed 'tf.placeholder' to 'tf.compat.v1.placeholder'\n",
            "INFO line 40:17: Renamed 'tf.placeholder' to 'tf.compat.v1.placeholder'\n",
            "INFO line 45:48: Renamed 'tf.truncated_normal' to 'tf.random.truncated_normal'\n",
            "INFO line 46:48: Renamed 'tf.truncated_normal' to 'tf.random.truncated_normal'\n",
            "INFO line 47:44: Renamed 'tf.sparse_tensor_dense_matmul' to 'tf.sparse.sparse_dense_matmul'\n",
            "INFO line 51:47: Renamed 'tf.truncated_normal' to 'tf.random.truncated_normal'\n",
            "INFO line 52:25: Renamed 'tf.sparse_tensor_dense_matmul' to 'tf.sparse.sparse_dense_matmul'\n",
            "INFO line 53:23: Added keywords to args of function 'tf.reduce_sum'\n",
            "INFO line 56:21: Added keywords to args of function 'tf.reduce_sum'\n",
            "INFO line 56:49: Renamed 'tf.log' to 'tf.math.log'\n",
            "INFO line 58:25: Renamed 'tf.train.GradientDescentOptimizer' to 'tf.compat.v1.train.GradientDescentOptimizer'\n",
            "INFO line 66:17: Renamed 'tf.ConfigProto' to 'tf.compat.v1.ConfigProto'\n",
            "INFO line 68:20: Renamed 'tf.Session' to 'tf.compat.v1.Session'\n",
            "INFO line 69:8: Renamed 'tf.global_variables_initializer' to 'tf.compat.v1.global_variables_initializer'\n",
            "INFO line 80:32: Renamed 'tf.SparseTensorValue' to 'tf.compat.v1.SparseTensorValue'\n",
            "INFO line 119:32: Renamed 'tf.SparseTensorValue' to 'tf.compat.v1.SparseTensorValue'\n",
            "Traceback (most recent call last):\n",
            "  File \"/tensorflow-1.15.2/python3.6/bin/tf_upgrade_v2\", line 8, in <module>\n",
            "    sys.exit(main())\n",
            "  File \"/tensorflow-1.15.2/python3.6/tensorflow_core/tools/compatibility/tf_upgrade_v2_main.py\", line 152, in main\n",
            "    args.input_tree, output_tree, args.copy_other_files)\n",
            "  File \"/tensorflow-1.15.2/python3.6/tensorflow_core/tools/compatibility/ast_edits.py\", line 1058, in process_tree\n",
            "    shutil.copy(input_path, output_path)\n",
            "  File \"/usr/lib/python3.6/shutil.py\", line 245, in copy\n",
            "    copyfile(src, dst, follow_symlinks=follow_symlinks)\n",
            "  File \"/usr/lib/python3.6/shutil.py\", line 120, in copyfile\n",
            "    with open(src, 'rb') as fsrc:\n",
            "OSError: [Errno 40] Too many levels of symbolic links: '/content/DRSA/python/output/soft_link'\n"
          ],
          "name": "stdout"
        }
      ]
    },
    {
      "cell_type": "code",
      "metadata": {
        "colab": {
          "base_uri": "https://localhost:8080/"
        },
        "id": "1Q5hAZNJOIdZ",
        "outputId": "823dd628-6460-4927-927a-272d9a020690"
      },
      "source": [
        "%tensorflow_version 2.x"
      ],
      "execution_count": 18,
      "outputs": [
        {
          "output_type": "stream",
          "text": [
            "TensorFlow is already loaded. Please restart the runtime to change versions.\n"
          ],
          "name": "stdout"
        }
      ]
    },
    {
      "cell_type": "code",
      "metadata": {
        "id": "9Ea0OmTBlL1k"
      },
      "source": [
        "! rm /content/DRSA/python_TFv2/*.py"
      ],
      "execution_count": 14,
      "outputs": []
    },
    {
      "cell_type": "code",
      "metadata": {
        "id": "1vJPo9ETP9_V"
      },
      "source": [
        "import tensorflow as tf\n",
        "# tf.reset_default_graph()\n",
        "tf.compat.v1.reset_default_graph()"
      ],
      "execution_count": null,
      "outputs": []
    },
    {
      "cell_type": "code",
      "metadata": {
        "colab": {
          "base_uri": "https://localhost:8080/"
        },
        "id": "N8iVo1IJRQa4",
        "outputId": "54817d8e-0ff3-4701-d5de-a2dd0a7fdfb7"
      },
      "source": [
        "# RStudio show invisible is the best way\n",
        "# check tab by \\t\n",
        "# ! python -m tabnanny /content/DRSA/python/BASE_MODEL.py\n",
        "#x Vim BASE_MODEL.py\n",
        "#x gg=G\n",
        "#x This auto indents everything and will clear up any spaces you have thrown in.\n",
        "\n",
        "# Python 2.7.6.\n",
        "# TensorFlow(>=1.3): The code you're using was written in Tensorflow v1.x, and is not compatible as it is with Tensorflow v2.\n",
        "# AttributeError: module 'tensorflow' has no attribute 'reset_default_graph' or more\n",
        "# => tf.compat.v1.reset_default_graph\n",
        "#%tensorflow_version 1.3\n",
        "# of *** follow this guide to migrate the code from v1 to v2:\n",
        "# https://www.tensorflow.org/guide/migrate\n",
        "! python /content/DRSA/python_TFv2/DRSA.py 0.0001 "
      ],
      "execution_count": 2,
      "outputs": [
        {
          "output_type": "stream",
          "text": [
            "2020-12-13 15:13:47.797220: I tensorflow/stream_executor/platform/default/dso_loader.cc:48] Successfully opened dynamic library libcudart.so.10.1\n",
            "WARNING:tensorflow:From /usr/local/lib/python3.6/dist-packages/tensorflow/python/compat/v2_compat.py:96: disable_resource_variables (from tensorflow.python.ops.variable_scope) is deprecated and will be removed in a future version.\n",
            "Instructions for updating:\n",
            "non-resource variables are not supported in the long term\n",
            "drsa32_128_128_0.000100_0.000100_0.001000_2259_1.20_0.20_True_False_1_1 \n",
            "\n",
            "WARNING:tensorflow:From /content/DRSA/python_TFv2/BASE_MODEL.py:257: dense (from tensorflow.python.keras.legacy_tf_layers.core) is deprecated and will be removed in a future version.\n",
            "Instructions for updating:\n",
            "Use keras.layers.Dense instead.\n",
            "WARNING:tensorflow:From /usr/local/lib/python3.6/dist-packages/tensorflow/python/keras/legacy_tf_layers/core.py:187: Layer.apply (from tensorflow.python.keras.engine.base_layer_v1) is deprecated and will be removed in a future version.\n",
            "Instructions for updating:\n",
            "Please use `layer.__call__` method instead.\n",
            "Traceback (most recent call last):\n",
            "  File \"/content/DRSA/python_TFv2/DRSA.py\", line 46, in <module>\n",
            "    RUNNING_MODEL.create_graph()\n",
            "  File \"/content/DRSA/python_TFv2/BASE_MODEL.py\", line 265, in create_graph\n",
            "    input_x = tf.map_fn(add_time, middle_layer)\n",
            "  File \"/usr/local/lib/python3.6/dist-packages/tensorflow/python/util/deprecation.py\", line 574, in new_func\n",
            "    return func(*args, **kwargs)\n",
            "  File \"/usr/local/lib/python3.6/dist-packages/tensorflow/python/util/deprecation.py\", line 507, in new_func\n",
            "    return func(*args, **kwargs)\n",
            "  File \"/usr/local/lib/python3.6/dist-packages/tensorflow/python/ops/map_fn.py\", line 641, in map_fn_v2\n",
            "    name=name)\n",
            "  File \"/usr/local/lib/python3.6/dist-packages/tensorflow/python/util/deprecation.py\", line 507, in new_func\n",
            "    return func(*args, **kwargs)\n",
            "  File \"/usr/local/lib/python3.6/dist-packages/tensorflow/python/ops/map_fn.py\", line 499, in map_fn\n",
            "    maximum_iterations=n)\n",
            "  File \"/usr/local/lib/python3.6/dist-packages/tensorflow/python/ops/control_flow_ops.py\", line 2774, in while_loop\n",
            "    return_same_structure)\n",
            "  File \"/usr/local/lib/python3.6/dist-packages/tensorflow/python/ops/control_flow_ops.py\", line 2256, in BuildLoop\n",
            "    pred, body, original_loop_vars, loop_vars, shape_invariants)\n",
            "  File \"/usr/local/lib/python3.6/dist-packages/tensorflow/python/ops/control_flow_ops.py\", line 2181, in _BuildLoop\n",
            "    body_result = body(*packed_vars_for_body)\n",
            "  File \"/usr/local/lib/python3.6/dist-packages/tensorflow/python/ops/control_flow_ops.py\", line 2726, in <lambda>\n",
            "    body = lambda i, lv: (i + 1, orig_body(*lv))\n",
            "  File \"/usr/local/lib/python3.6/dist-packages/tensorflow/python/ops/map_fn.py\", line 483, in compute\n",
            "    result_value = autographed_fn(elems_value)\n",
            "  File \"/usr/local/lib/python3.6/dist-packages/tensorflow/python/autograph/impl/api.py\", line 258, in wrapper\n",
            "    raise e.ag_error_metadata.to_exception(e)\n",
            "TypeError: in user code:\n",
            "\n",
            "    /content/DRSA/python_TFv2/BASE_MODEL.py:260 add_time  *\n",
            "        y = tf.reshape(tf.tile(x, [self.MAX_SEQ_LEN]), [self.MAX_SEQ_LEN, self.MIDDLE_FEATURE_SIZE])\n",
            "    /usr/local/lib/python3.6/dist-packages/tensorflow/python/ops/gen_array_ops.py:11406 tile  **\n",
            "        \"Tile\", input=input, multiples=multiples, name=name)\n",
            "    /usr/local/lib/python3.6/dist-packages/tensorflow/python/framework/op_def_library.py:578 _apply_op_helper\n",
            "        param_name=input_name)\n",
            "    /usr/local/lib/python3.6/dist-packages/tensorflow/python/framework/op_def_library.py:61 _SatisfiesTypeConstraint\n",
            "        \", \".join(dtypes.as_dtype(x).name for x in allowed_list)))\n",
            "\n",
            "    TypeError: Value passed to parameter 'multiples' has DataType float32 not in list of allowed values: int32, int64\n",
            "\n"
          ],
          "name": "stdout"
        }
      ]
    },
    {
      "cell_type": "code",
      "metadata": {
        "colab": {
          "base_uri": "https://localhost:8080/",
          "height": 257
        },
        "id": "kBNO4rOUVeW9",
        "outputId": "91658a08-8dae-4ea7-ba07-75422ebcbb30"
      },
      "source": [
        "# DRSA.py\n",
        "import sys\n",
        "sys.path.append(\"/content/DRSA/python\") # BASE_MODEL.py\n",
        "from BASE_MODEL import BASE_RNN\n",
        "\n",
        "#default parameter\n",
        "FEATURE_SIZE = 16 # dataset input fields count\n",
        "MAX_DEN = 580000 # max input data demension\n",
        "EMB_DIM = 32\n",
        "BATCH_SIZE = 128\n",
        "MAX_SEQ_LEN = 330\n",
        "TRAING_STEPS = 10000000\n",
        "STATE_SIZE = 128\n",
        "GRAD_CLIP = 5.0\n",
        "L2_NORM = 0.001\n",
        "ADD_TIME = True\n",
        "ALPHA = 1.2 # coefficient for cross entropy\n",
        "BETA = 0.2 # coefficient for anlp\n",
        "input_file=\"2259\" #toy dataset\n",
        "\n",
        "if len(sys.argv) < 2:\n",
        "    print (\"Please input learning rate. ex. 0.0001\")\n",
        "    sys.exit(0)\n",
        "\n",
        "LR = float(sys.argv[1])\n",
        "LR_ANLP = LR\n",
        "RUNNING_MODEL = BASE_RNN(EMB_DIM=EMB_DIM,\n",
        "                         FEATURE_SIZE=FEATURE_SIZE,\n",
        "                         BATCH_SIZE=BATCH_SIZE,\n",
        "                         MAX_DEN=MAX_DEN,\n",
        "                         MAX_SEQ_LEN=MAX_SEQ_LEN,\n",
        "                         TRAING_STEPS=TRAING_STEPS,\n",
        "                         STATE_SIZE=STATE_SIZE,\n",
        "                         LR=LR,\n",
        "                         GRAD_CLIP=GRAD_CLIP,\n",
        "                         L2_NORM=L2_NORM,\n",
        "                         INPUT_FILE=input_file,\n",
        "                         ALPHA=ALPHA,\n",
        "                         BETA=BETA,\n",
        "                         ADD_TIME_FEATURE=ADD_TIME,\n",
        "                         FIND_PARAMETER=False,\n",
        "                         ANLP_LR=LR,\n",
        "                         DNN_MODEL=False,\n",
        "                         DISCOUNT=1,\n",
        "                         ONLY_TRAIN_ANLP=False,\n",
        "                         LOG_PREFIX=\"drsa\")\n",
        "RUNNING_MODEL.create_graph()\n",
        "RUNNING_MODEL.run_model()"
      ],
      "execution_count": null,
      "outputs": [
        {
          "output_type": "error",
          "ename": "ValueError",
          "evalue": "ignored",
          "traceback": [
            "\u001b[0;31m---------------------------------------------------------------------------\u001b[0m",
            "\u001b[0;31mValueError\u001b[0m                                Traceback (most recent call last)",
            "\u001b[0;32m<ipython-input-10-b9ce43dd8627>\u001b[0m in \u001b[0;36m<module>\u001b[0;34m()\u001b[0m\n\u001b[1;32m     23\u001b[0m     \u001b[0msys\u001b[0m\u001b[0;34m.\u001b[0m\u001b[0mexit\u001b[0m\u001b[0;34m(\u001b[0m\u001b[0;36m0\u001b[0m\u001b[0;34m)\u001b[0m\u001b[0;34m\u001b[0m\u001b[0;34m\u001b[0m\u001b[0m\n\u001b[1;32m     24\u001b[0m \u001b[0;34m\u001b[0m\u001b[0m\n\u001b[0;32m---> 25\u001b[0;31m \u001b[0mLR\u001b[0m \u001b[0;34m=\u001b[0m \u001b[0mfloat\u001b[0m\u001b[0;34m(\u001b[0m\u001b[0msys\u001b[0m\u001b[0;34m.\u001b[0m\u001b[0margv\u001b[0m\u001b[0;34m[\u001b[0m\u001b[0;36m1\u001b[0m\u001b[0;34m]\u001b[0m\u001b[0;34m)\u001b[0m\u001b[0;34m\u001b[0m\u001b[0;34m\u001b[0m\u001b[0m\n\u001b[0m\u001b[1;32m     26\u001b[0m \u001b[0mLR_ANLP\u001b[0m \u001b[0;34m=\u001b[0m \u001b[0mLR\u001b[0m\u001b[0;34m\u001b[0m\u001b[0;34m\u001b[0m\u001b[0m\n\u001b[1;32m     27\u001b[0m RUNNING_MODEL = BASE_RNN(EMB_DIM=EMB_DIM,\n",
            "\u001b[0;31mValueError\u001b[0m: could not convert string to float: '-f'"
          ]
        }
      ]
    },
    {
      "cell_type": "code",
      "metadata": {
        "id": "vKuB3Cwcg_W4"
      },
      "source": [
        ""
      ],
      "execution_count": null,
      "outputs": []
    }
  ]
}